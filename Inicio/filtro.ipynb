{
 "cells": [
  {
   "cell_type": "code",
   "execution_count": 51,
   "metadata": {},
   "outputs": [
    {
     "data": {
      "text/plain": [
       "1309"
      ]
     },
     "execution_count": 51,
     "metadata": {},
     "output_type": "execute_result"
    }
   ],
   "source": [
    "import pandas as pd\n",
    "import numpy as np\n",
    "\n",
    "# Filtros que ofrece pandas.\n",
    "# A filtrado se entiende como la optencion de informacion relevante en filas o columnas de nuestra Base de Datos.\n",
    "\n",
    "#Traemos las DF\n",
    "data = pd.read_csv(\"../data.csv.csv\")\n",
    "\n",
    "# Si Quermos obtener la infomacion de una columna determinada. >> DF[\"NombreDeColumna\"].head(\"NumeroDeFilasAhMostrar\") <<\n",
    "data[\"name\"].head()\n",
    "\n",
    "# Si queremos filtar por un intervalo determinado de columnas.\n",
    "data[22:35]\n",
    "\n",
    "# Si queremos filtrar por valores concretos. Ej: que nos muestra con una edad menor a 26\n",
    "# se pueden usar todos los coparadores.\n",
    "# <=, >=, < >, ==, !=\n",
    "#data.dtypes \n",
    "data[data[\"survived\"] < 1].head()\n",
    "# en el caso de que se quiera compara texto o los valores esten almacenados como texto. \n",
    "data[data[\"age\"] == \"26\"].head()\n",
    "\n",
    "# como usar dos o mas filtros conjutamente, separandolos con una \"&\". \n",
    "data[(data[\"age\"] == \"26\") & (data[\"sex\"] == \"male\")].head()     # Con AND\n",
    "data[(data[\"age\"] < \"30\") | (data[\"sex\"] == \"female\")].head(10)  # Con OR\n",
    "\n",
    "# Filtrar en un tabla con mas de un valor. Opcion a usar OR o AND\n",
    "#data[data.age.isin([\"25\", \"30\"])].head()\n",
    "# Usar el mismo tipo de filtro como el anterior, pero que no dependa directamente del DF, sino usando Pandas.\n",
    "data[pd.isna(data[\"name\"])].head()\n",
    "# la funcion de isna() es para detectar valores faltantes.\n",
    "# Si queremos saber cuantas filas de nuestra Base de Datos no tiene valores.\n",
    "len(data[pd.isna(data[\"name\"])]) \n",
    "\n",
    "# Para saber cuantas filas tiene nuestra DF\n",
    "len(data)"
   ]
  }
 ],
 "metadata": {
  "interpreter": {
   "hash": "11ffc019a02cc0e21e59860b66c88ea81995ce9237607e8ab2c087a287ee4867"
  },
  "kernelspec": {
   "display_name": "Python 3.9.7 ('base')",
   "language": "python",
   "name": "python3"
  },
  "language_info": {
   "name": "python",
   "version": "3.9.7"
  },
  "orig_nbformat": 4
 },
 "nbformat": 4,
 "nbformat_minor": 2
}
