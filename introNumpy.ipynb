{
 "cells": [
  {
   "cell_type": "code",
   "execution_count": 33,
   "metadata": {},
   "outputs": [
    {
     "data": {
      "text/plain": [
       "array([[[ 1,  2],\n",
       "        [ 3,  4]],\n",
       "\n",
       "       [[ 5,  6],\n",
       "        [ 7,  8]],\n",
       "\n",
       "       [[ 9, 10],\n",
       "        [11, 12]]])"
      ]
     },
     "execution_count": 33,
     "metadata": {},
     "output_type": "execute_result"
    }
   ],
   "source": [
    "import pandas as pd\n",
    "import numpy as np\n",
    "\n",
    "# Introduccion en el paquete Numpy, No hay que instalar nada, ya esta dentro de Anaconda.\n",
    "# Numpy es que paquete orientado a analisis matematico y cientifico de datos.\n",
    "\n",
    "#Traemos las DF\n",
    "data = pd.read_csv(\"data.csv.csv\")\n",
    "data.head(10)\n",
    "\n",
    "# Matiz. \n",
    "# Dos Dimenciones\n",
    "valoraciones = np.array([[8,7,8,5], [2,6,8,1], [8,8,9,5]])\n",
    "valoraciones\n",
    "\n",
    "#ouput:\n",
    "#array([[8, 7, 8, 5],\n",
    "#      [2, 6, 8, 1],\n",
    "#      [8, 8, 9, 5]])\n",
    "\n",
    "# Como acceder a los datos de las \"valoraciones\"\n",
    "# hay dos formas.\n",
    "valoraciones[0][1] # Opcion 1\n",
    "valoraciones[0,1] # Opcion 2\n",
    "\n",
    "# Tres Dimenciones.\n",
    "valoraciones2 = np.array([[[8,7,8,5], [2,6,8,1]], [[8,8,9,5], [2,6,8,4]], [[8,9,7,4], [8,8,9,3]]])\n",
    "valoraciones2\n",
    "\n",
    "# ouput:\n",
    "# array \n",
    "# array([[[8, 7, 8, 5],\n",
    "#       [2, 6, 8, 1]],\n",
    "#\n",
    "#      [[8, 8, 9, 5],\n",
    "#       [2, 6, 8, 4]],\n",
    "#\n",
    "#      [[8, 9, 7, 4],\n",
    "#       [8, 8, 9, 3]]])\n",
    "\n",
    "# como aceder a los valores de las \"valoraciones\"\n",
    "valoraciones2[0][1][2]\n",
    "valoraciones2[0,1,3]\n",
    "\n",
    "# Generar dimenciones en cero\n",
    "np.zeros((2,3,5))\n",
    "\n",
    "# Suma de dimenciones de iguales dimencion, Le sumamos uno con ones\n",
    "valoraciones2 + np.ones((3,2,4))\n",
    "\n",
    "# Calcular la media \n",
    "np.mean(valoraciones)\n",
    "\n",
    "# Crear una dimencion a partir de un array.\n",
    "np.reshape([1,2,3,4,5,6,7,8,9,10,11,12], (3,2,2)) # tener en cuenta que la cantidad de valores coincidan, Sino da error.\n",
    "\n",
    "\n",
    "\n"
   ]
  }
 ],
 "metadata": {
  "interpreter": {
   "hash": "11ffc019a02cc0e21e59860b66c88ea81995ce9237607e8ab2c087a287ee4867"
  },
  "kernelspec": {
   "display_name": "Python 3.9.7 ('base')",
   "language": "python",
   "name": "python3"
  },
  "language_info": {
   "codemirror_mode": {
    "name": "ipython",
    "version": 3
   },
   "file_extension": ".py",
   "mimetype": "text/x-python",
   "name": "python",
   "nbconvert_exporter": "python",
   "pygments_lexer": "ipython3",
   "version": "3.9.7"
  },
  "orig_nbformat": 4
 },
 "nbformat": 4,
 "nbformat_minor": 2
}
